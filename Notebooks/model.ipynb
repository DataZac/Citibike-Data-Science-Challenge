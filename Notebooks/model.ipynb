{
 "cells": [
  {
   "cell_type": "code",
   "execution_count": 3,
   "metadata": {
    "collapsed": false
   },
   "outputs": [],
   "source": [
    "import matplotlib.pyplot as plt\n",
    "import numpy as np\n",
    "import pandas as pd\n",
    "import pdb\n",
    "import pickle\n",
    "import imp\n",
    "import datetime\n",
    "from pprint import pprint\n",
    "import utilities\n",
    "imp.reload(utilities)\n",
    "\n",
    "\n",
    "from sklearn.model_selection import train_test_split\n",
    "from sklearn.pipeline import Pipeline\n",
    "from sklearn.linear_model import Ridge, LogisticRegression\n",
    "\n",
    "from sklearn.decomposition import PCA\n",
    "from sklearn.preprocessing import StandardScaler\n",
    "\n",
    "from sklearn.ensemble import GradientBoostingClassifier\n",
    "from sklearn.ensemble import RandomForestClassifier\n",
    "from sklearn.ensemble import VotingClassifier\n",
    "from sklearn.tree import DecisionTreeClassifier\n",
    "from sklearn.neural_network import MLPClassifier\n",
    "from sklearn.svm import SVC\n",
    "\n",
    "from sklearn.metrics import mean_squared_error\n",
    "from sklearn.metrics import roc_auc_score\n",
    "from sklearn.metrics import auc\n",
    "from sklearn.metrics import average_precision_score\n",
    "from sklearn.metrics import precision_recall_curve\n",
    "\n",
    "from sklearn.model_selection import GridSearchCV"
   ]
  },
  {
   "cell_type": "markdown",
   "metadata": {},
   "source": [
    "#  Load data"
   ]
  },
  {
   "cell_type": "code",
   "execution_count": 6,
   "metadata": {
    "collapsed": false
   },
   "outputs": [
    {
     "data": {
      "text/plain": [
       "\"    \\nfile_name = 'data_for_modeling_25k.pkl'\\nwith open('data/'+file_name, 'rb') as f:\\n    df = pickle.load(f)\\n\""
      ]
     },
     "execution_count": 6,
     "metadata": {},
     "output_type": "execute_result"
    }
   ],
   "source": [
    "\n",
    "'''    \n",
    "file_name = 'data_for_modeling_25k.pkl'\n",
    "with open('data/'+file_name, 'rb') as f:\n",
    "    df = pickle.load(f)\n",
    "'''"
   ]
  },
  {
   "cell_type": "code",
   "execution_count": 2,
   "metadata": {
    "collapsed": false
   },
   "outputs": [],
   "source": [
    "def open_read( file_name, mode = '',df=''):\n",
    "        if mode == 'w':\n",
    "                with open('data/'+file_name, 'wb') as f:\n",
    "                    pickle.dump(df, f)\n",
    "        elif mode =='r':\n",
    "                with open('data/'+file_name, 'rb') as f:\n",
    "                    df = pickle.load(f)                \n",
    "                return df\n",
    "df = open_read('0.03_intermediate', mode = 'r')"
   ]
  },
  {
   "cell_type": "code",
   "execution_count": 8,
   "metadata": {
    "collapsed": false
   },
   "outputs": [
    {
     "data": {
      "text/plain": [
       "Index(['trip_duration', 'starttime', 'stoptime', 'ss_id', 'ss_name', 'ss_lat',\n",
       "       'ss_lon', 'es_id', 'es_name', 'es_lat', 'es_lon', 'bike_id', 'usertype',\n",
       "       'birth_year', 'gender', 'age', 'starttime_hour', 'starttime_month',\n",
       "       'starttime_dayofweek', 'stoptime_hour', 'stoptime_month',\n",
       "       'stoptime_dayofweek', 'stations_distance', 'route', 'trip_eff_speed'],\n",
       "      dtype='object')"
      ]
     },
     "execution_count": 8,
     "metadata": {},
     "output_type": "execute_result"
    }
   ],
   "source": [
    "df.columns"
   ]
  },
  {
   "cell_type": "markdown",
   "metadata": {},
   "source": [
    "# Preprocessing"
   ]
  },
  {
   "cell_type": "code",
   "execution_count": 7,
   "metadata": {
    "collapsed": false
   },
   "outputs": [],
   "source": [
    "df['target'] = df['usertype'].apply(lambda x: 0 if x == 'Customer' else 1)\n",
    "n_class_0 = df['target'].loc[df.target == 0].shape[0]\n",
    "n_class_1 = df['target'].loc[df.target == 1].shape[0]"
   ]
  },
  {
   "cell_type": "code",
   "execution_count": 8,
   "metadata": {
    "collapsed": false
   },
   "outputs": [
    {
     "name": "stderr",
     "output_type": "stream",
     "text": [
      "C:\\Program Files\\Anaconda3\\lib\\site-packages\\ipykernel\\__main__.py:16: SettingWithCopyWarning: \n",
      "A value is trying to be set on a copy of a slice from a DataFrame.\n",
      "Try using .loc[row_indexer,col_indexer] = value instead\n",
      "\n",
      "See the caveats in the documentation: http://pandas.pydata.org/pandas-docs/stable/indexing.html#indexing-view-versus-copy\n",
      "C:\\Program Files\\Anaconda3\\lib\\site-packages\\pandas\\core\\indexing.py:517: SettingWithCopyWarning: \n",
      "A value is trying to be set on a copy of a slice from a DataFrame.\n",
      "Try using .loc[row_indexer,col_indexer] = value instead\n",
      "\n",
      "See the caveats in the documentation: http://pandas.pydata.org/pandas-docs/stable/indexing.html#indexing-view-versus-copy\n",
      "  self.obj[item] = s\n"
     ]
    }
   ],
   "source": [
    "target = 'target'\n",
    "cols_to_use = ['trip_eff_speed','stations_distance','trip_duration',\n",
    "               'age', 'starttime_hour', 'starttime_month',\n",
    "               'starttime_dayofweek', 'gender']\n",
    "X = df[cols_to_use] \n",
    "y = df[target]\n",
    "\n",
    "cols_to_scale = ['trip_duration','stations_distance',\n",
    "                 'trip_eff_speed', 'age' ]\n",
    "cols_to_encode = ['gender',  'starttime_month', 'starttime_hour', 'starttime_dayofweek']\n",
    "\n",
    "assert (len(cols_to_use) == (len(cols_to_scale) + len(cols_to_encode))), 'Number of columns to scale and encode error'\n",
    "\n",
    "for col in cols_to_scale:\n",
    "    scaler = StandardScaler(with_mean = True, with_std = True)\n",
    "    X[[col]] = scaler.fit_transform(X[[col]])\n",
    "\n",
    "    \n",
    "for col in cols_to_encode:\n",
    "        X = pd.get_dummies(X, columns = [col], prefix = col)\n",
    "\n",
    "X_train, X_test, y_train, y_test = train_test_split(X,y, test_size = 0.2)"
   ]
  },
  {
   "cell_type": "code",
   "execution_count": 12,
   "metadata": {
    "collapsed": false
   },
   "outputs": [
    {
     "data": {
      "text/plain": [
       "<bound method Index.sort of Index(['trip_eff_speed', 'stations_distance', 'trip_duration', 'age',\n",
       "       'gender_0', 'gender_1', 'gender_2', 'starttime_month_1',\n",
       "       'starttime_month_2', 'starttime_month_3', 'starttime_month_4',\n",
       "       'starttime_month_5', 'starttime_month_6', 'starttime_month_7',\n",
       "       'starttime_month_8', 'starttime_month_9', 'starttime_month_10',\n",
       "       'starttime_month_11', 'starttime_month_12', 'starttime_hour_0',\n",
       "       'starttime_hour_1', 'starttime_hour_2', 'starttime_hour_3',\n",
       "       'starttime_hour_4', 'starttime_hour_5', 'starttime_hour_6',\n",
       "       'starttime_hour_7', 'starttime_hour_8', 'starttime_hour_9',\n",
       "       'starttime_hour_10', 'starttime_hour_11', 'starttime_hour_12',\n",
       "       'starttime_hour_13', 'starttime_hour_14', 'starttime_hour_15',\n",
       "       'starttime_hour_16', 'starttime_hour_17', 'starttime_hour_18',\n",
       "       'starttime_hour_19', 'starttime_hour_20', 'starttime_hour_21',\n",
       "       'starttime_hour_22', 'starttime_hour_23', 'starttime_dayofweek_0',\n",
       "       'starttime_dayofweek_1', 'starttime_dayofweek_2',\n",
       "       'starttime_dayofweek_3', 'starttime_dayofweek_4',\n",
       "       'starttime_dayofweek_5', 'starttime_dayofweek_6'],\n",
       "      dtype='object')>"
      ]
     },
     "execution_count": 12,
     "metadata": {},
     "output_type": "execute_result"
    }
   ],
   "source": [
    "X_train.columns.sort"
   ]
  },
  {
   "cell_type": "markdown",
   "metadata": {},
   "source": [
    "#  Modeling with basic parameters"
   ]
  },
  {
   "cell_type": "code",
   "execution_count": 55,
   "metadata": {
    "collapsed": false
   },
   "outputs": [
    {
     "name": "stdout",
     "output_type": "stream",
     "text": [
      "Modeling : <class 'sklearn.linear_model.logistic.LogisticRegression'>\n",
      "Modeling : <class 'sklearn.ensemble.gradient_boosting.GradientBoostingClassifier'>\n",
      "Modeling : <class 'sklearn.ensemble.forest.RandomForestClassifier'>\n",
      "Modeling : <class 'sklearn.tree.tree.DecisionTreeClassifier'>\n",
      "Modeling : <class 'sklearn.neural_network.multilayer_perceptron.MLPClassifier'>\n"
     ]
    }
   ],
   "source": [
    "clfs = [LogisticRegression(),\n",
    "        GradientBoostingClassifier(),\n",
    "        RandomForestClassifier(),\n",
    "        DecisionTreeClassifier(),\n",
    "        MLPClassifier(hidden_layer_sizes = (16,32,32)),\n",
    "        #SVC(probability = True)\n",
    "   ]\n",
    "\n",
    "names = ['Log. regr.', 'Grad. B.', 'R. f.', 'Dec. Tree', 'MLP']\n",
    "\n",
    "results_overall = []\n",
    "clf_nrs_for_importances = []\n",
    "for i, clf in enumerate(clfs):\n",
    "    \n",
    "    print('Modeling :', str(clf.__class__))\n",
    "    \n",
    "    \n",
    "    clf.fit(X_train, y_train)\n",
    "    y_pred = clf.predict_proba(X_test)[:, 1] \n",
    "    #y_pred = clf.predict(X_test)\n",
    "    precision, recall, thresholds = precision_recall_curve(y_test, clf.predict_proba(X_test)[:,1])\n",
    "    \n",
    "    results = [str(clf.__class__),\n",
    "               clf,\n",
    "               roc_auc_score(y_test, y_pred),\n",
    "               average_precision_score(y_test,y_pred),\n",
    "               auc(recall, precision)]\n",
    "               \n",
    "    y_pred_train = clf.predict_proba(X_train)[:, 1]     \n",
    "    precision_train, recall_train, thresholds_train = precision_recall_curve(y_train, clf.predict_proba(X_train)[:,1])               \n",
    "    \n",
    "    results += [roc_auc_score(y_train, y_pred_train),\n",
    "               average_precision_score(y_train, y_pred_train),auc(recall_train, precision_train)]\n",
    "    results_overall.append(results)\n",
    "               \n",
    "    \n"
   ]
  },
  {
   "cell_type": "code",
   "execution_count": 56,
   "metadata": {
    "collapsed": false
   },
   "outputs": [
    {
     "data": {
      "text/html": [
       "<div>\n",
       "<style>\n",
       "    .dataframe thead tr:only-child th {\n",
       "        text-align: right;\n",
       "    }\n",
       "\n",
       "    .dataframe thead th {\n",
       "        text-align: left;\n",
       "    }\n",
       "\n",
       "    .dataframe tbody tr th {\n",
       "        vertical-align: top;\n",
       "    }\n",
       "</style>\n",
       "<table border=\"1\" class=\"dataframe\">\n",
       "  <thead>\n",
       "    <tr style=\"text-align: right;\">\n",
       "      <th></th>\n",
       "      <th>avg_prec_test</th>\n",
       "      <th>avg_prec_train</th>\n",
       "      <th>name</th>\n",
       "      <th>prec_auc_test</th>\n",
       "      <th>prec_auc_train</th>\n",
       "      <th>roc_test</th>\n",
       "      <th>roc_train</th>\n",
       "    </tr>\n",
       "  </thead>\n",
       "  <tbody>\n",
       "    <tr>\n",
       "      <th>3</th>\n",
       "      <td>0.974550</td>\n",
       "      <td>1.000000</td>\n",
       "      <td>Dec. Tree</td>\n",
       "      <td>0.974550</td>\n",
       "      <td>1.000000</td>\n",
       "      <td>0.789124</td>\n",
       "      <td>1.000000</td>\n",
       "    </tr>\n",
       "    <tr>\n",
       "      <th>0</th>\n",
       "      <td>0.983384</td>\n",
       "      <td>0.983427</td>\n",
       "      <td>Log. regr.</td>\n",
       "      <td>0.983384</td>\n",
       "      <td>0.983427</td>\n",
       "      <td>0.902171</td>\n",
       "      <td>0.903719</td>\n",
       "    </tr>\n",
       "    <tr>\n",
       "      <th>2</th>\n",
       "      <td>0.985547</td>\n",
       "      <td>0.999979</td>\n",
       "      <td>R. f.</td>\n",
       "      <td>0.985547</td>\n",
       "      <td>0.999979</td>\n",
       "      <td>0.899595</td>\n",
       "      <td>0.999831</td>\n",
       "    </tr>\n",
       "    <tr>\n",
       "      <th>1</th>\n",
       "      <td>0.990116</td>\n",
       "      <td>0.990183</td>\n",
       "      <td>Grad. B.</td>\n",
       "      <td>0.990116</td>\n",
       "      <td>0.990183</td>\n",
       "      <td>0.937940</td>\n",
       "      <td>0.939869</td>\n",
       "    </tr>\n",
       "    <tr>\n",
       "      <th>4</th>\n",
       "      <td>0.990592</td>\n",
       "      <td>0.990948</td>\n",
       "      <td>MLP</td>\n",
       "      <td>0.990592</td>\n",
       "      <td>0.990948</td>\n",
       "      <td>0.940011</td>\n",
       "      <td>0.943282</td>\n",
       "    </tr>\n",
       "  </tbody>\n",
       "</table>\n",
       "</div>"
      ],
      "text/plain": [
       "   avg_prec_test  avg_prec_train        name  prec_auc_test  prec_auc_train  \\\n",
       "3       0.974550        1.000000   Dec. Tree       0.974550        1.000000   \n",
       "0       0.983384        0.983427  Log. regr.       0.983384        0.983427   \n",
       "2       0.985547        0.999979       R. f.       0.985547        0.999979   \n",
       "1       0.990116        0.990183    Grad. B.       0.990116        0.990183   \n",
       "4       0.990592        0.990948         MLP       0.990592        0.990948   \n",
       "\n",
       "   roc_test  roc_train  \n",
       "3  0.789124   1.000000  \n",
       "0  0.902171   0.903719  \n",
       "2  0.899595   0.999831  \n",
       "1  0.937940   0.939869  \n",
       "4  0.940011   0.943282  "
      ]
     },
     "execution_count": 56,
     "metadata": {},
     "output_type": "execute_result"
    }
   ],
   "source": [
    "df = pd.DataFrame(data = results_overall, columns = ['name','clf','roc_test','avg_prec_test',\n",
    "                                                'prec_auc_test','roc_train','avg_prec_train',\n",
    "                                                'prec_auc_train'])\n",
    "df.name = names\n",
    "df.sort_values(['prec_auc_test'])[df.columns.difference(['clf'])]"
   ]
  },
  {
   "cell_type": "code",
   "execution_count": 57,
   "metadata": {
    "collapsed": false
   },
   "outputs": [
    {
     "name": "stdout",
     "output_type": "stream",
     "text": [
      "\n",
      "__________________ \t\t\t\t <class 'sklearn.linear_model.logistic.LogisticRegression'>\n"
     ]
    },
    {
     "data": {
      "image/png": "[encoded data removed]",
      "text/plain": [
       "<matplotlib.figure.Figure object at 0x000000484B149CF8>"
      ]
     },
     "metadata": {},
     "output_type": "display_data"
    },
    {
     "name": "stdout",
     "output_type": "stream",
     "text": [
      "\n",
      "__________________ \t\t\t\t <class 'sklearn.ensemble.gradient_boosting.GradientBoostingClassifier'>\n"
     ]
    },
    {
     "data": {
      "image/png": "[encoded data removed]",
      "text/plain": [
       "<matplotlib.figure.Figure object at 0x0000004803CAF9E8>"
      ]
     },
     "metadata": {},
     "output_type": "display_data"
    },
    {
     "name": "stdout",
     "output_type": "stream",
     "text": [
      "\n",
      "__________________ \t\t\t\t <class 'sklearn.ensemble.forest.RandomForestClassifier'>\n"
     ]
    },
    {
     "data": {
      "image/png": "[encoded data removed]",
      "text/plain": [
       "<matplotlib.figure.Figure object at 0x0000004845C1DEF0>"
      ]
     },
     "metadata": {},
     "output_type": "display_data"
    },
    {
     "name": "stdout",
     "output_type": "stream",
     "text": [
      "\n",
      "__________________ \t\t\t\t <class 'sklearn.tree.tree.DecisionTreeClassifier'>\n"
     ]
    },
    {
     "data": {
      "image/png": "[encoded data removed]",
      "text/plain": [
       "<matplotlib.figure.Figure object at 0x0000004801A849E8>"
      ]
     },
     "metadata": {},
     "output_type": "display_data"
    },
    {
     "name": "stdout",
     "output_type": "stream",
     "text": [
      "\n",
      "__________________ \t\t\t\t <class 'sklearn.neural_network.multilayer_perceptron.MLPClassifier'>\n"
     ]
    },
    {
     "data": {
      "image/png": "[encoded data removed]",
      "text/plain": [
       "<matplotlib.figure.Figure object at 0x0000004845C3D940>"
      ]
     },
     "metadata": {},
     "output_type": "display_data"
    }
   ],
   "source": [
    "for item in results_overall:\n",
    "    clf = item[1]\n",
    "    utilities.setup_and_plot_model_scores(clf, X_test, y_test, X_train, y_train)"
   ]
  },
  {
   "cell_type": "code",
   "execution_count": 58,
   "metadata": {
    "collapsed": false
   },
   "outputs": [
    {
     "name": "stdout",
     "output_type": "stream",
     "text": [
      "1 feature 4 (0.2577823770369398) column gender_0\n",
      "2 feature 3 (0.1497583701339126) column age\n",
      "3 feature 2 (0.13602912185564214) column trip_duration\n",
      "4 feature 0 (0.1296268325837951) column trip_eff_speed\n",
      "5 feature 1 (0.09496150359966632) column stations_distance\n",
      "6 feature 6 (0.03930456332398052) column gender_2\n",
      "7 feature 5 (0.03069622401311743) column gender_1\n",
      "8 feature 48 (0.007995429962043154) column starttime_dayofweek_5\n",
      "9 feature 12 (0.006081466584162863) column starttime_month_6\n",
      "10 feature 14 (0.0060256481601953255) column starttime_month_8\n",
      "11 feature 15 (0.00570901151435962) column starttime_month_9\n",
      "12 feature 13 (0.005573673003704328) column starttime_month_7\n",
      "13 feature 16 (0.005422233634613898) column starttime_month_10\n",
      "14 feature 11 (0.005385403529361557) column starttime_month_5\n",
      "15 feature 49 (0.005243349281346994) column starttime_dayofweek_6\n",
      "16 feature 36 (0.005117682384933866) column starttime_hour_17\n",
      "17 feature 47 (0.005039192892583842) column starttime_dayofweek_4\n",
      "18 feature 35 (0.0050092006770034985) column starttime_hour_16\n",
      "19 feature 27 (0.004962256145693824) column starttime_hour_8\n",
      "20 feature 46 (0.004885209011385865) column starttime_dayofweek_3\n",
      "21 feature 43 (0.004820511065546812) column starttime_dayofweek_0\n",
      "22 feature 37 (0.004664866185324486) column starttime_hour_18\n",
      "23 feature 34 (0.004587022937685346) column starttime_hour_15\n",
      "24 feature 45 (0.0045453262545683505) column starttime_dayofweek_2\n",
      "25 feature 31 (0.004501074016942014) column starttime_hour_12\n",
      "26 feature 33 (0.004495815614968025) column starttime_hour_14\n",
      "27 feature 32 (0.0044394965222311535) column starttime_hour_13\n",
      "28 feature 44 (0.0043391609200970765) column starttime_dayofweek_1\n",
      "29 feature 17 (0.004319100702224247) column starttime_month_11\n",
      "30 feature 38 (0.004288798573882506) column starttime_hour_19\n",
      "31 feature 30 (0.004173004668005862) column starttime_hour_11\n",
      "32 feature 10 (0.0040174123110868435) column starttime_month_4\n",
      "33 feature 29 (0.003779210546966379) column starttime_hour_10\n",
      "34 feature 18 (0.0035604773191772617) column starttime_month_12\n",
      "35 feature 39 (0.0033950172499765383) column starttime_hour_20\n",
      "36 feature 28 (0.003371745833254689) column starttime_hour_9\n",
      "37 feature 26 (0.0029182925439978826) column starttime_hour_7\n",
      "38 feature 40 (0.0026432155713464823) column starttime_hour_21\n",
      "39 feature 41 (0.0026391553838614502) column starttime_hour_22\n",
      "40 feature 9 (0.0022419181222035527) column starttime_month_3\n",
      "41 feature 42 (0.0021352107682123815) column starttime_hour_23\n",
      "42 feature 7 (0.00196243123388336) column starttime_month_1\n",
      "43 feature 8 (0.0018976484733474297) column starttime_month_2\n",
      "44 feature 19 (0.0014324335894228706) column starttime_hour_0\n",
      "45 feature 25 (0.0012522217919110781) column starttime_hour_6\n",
      "46 feature 20 (0.0009919074799014387) column starttime_hour_1\n",
      "47 feature 21 (0.0007626044081698872) column starttime_hour_2\n",
      "48 feature 24 (0.0004955381261585842) column starttime_hour_5\n",
      "49 feature 23 (0.000385023363058138) column starttime_hour_4\n",
      "50 feature 22 (0.00033560909414535623) column starttime_hour_3\n",
      "1 feature 4 (0.44068567450724705) column gender_0\n",
      "2 feature 2 (0.11920925986802737) column trip_duration\n",
      "3 feature 0 (0.10291198634391371) column trip_eff_speed\n",
      "4 feature 1 (0.08581992021898846) column stations_distance\n",
      "5 feature 3 (0.07666695754251378) column age\n",
      "6 feature 13 (0.006691197086942253) column starttime_month_7\n",
      "7 feature 15 (0.006680453852017381) column starttime_month_9\n",
      "8 feature 16 (0.006314650988234737) column starttime_month_10\n",
      "9 feature 48 (0.0061937521567412305) column starttime_dayofweek_5\n",
      "10 feature 14 (0.006152171575676483) column starttime_month_8\n",
      "11 feature 49 (0.0059449341140864545) column starttime_dayofweek_6\n",
      "12 feature 12 (0.005893362250781868) column starttime_month_6\n",
      "13 feature 5 (0.005438703719006275) column gender_1\n",
      "14 feature 47 (0.0054268872780865824) column starttime_dayofweek_4\n",
      "15 feature 34 (0.005424356803073798) column starttime_hour_15\n",
      "16 feature 32 (0.0053664025632069205) column starttime_hour_13\n",
      "17 feature 35 (0.005257326032958564) column starttime_hour_16\n",
      "18 feature 6 (0.005222150083267495) column gender_2\n",
      "19 feature 45 (0.005071018717931454) column starttime_dayofweek_2\n",
      "20 feature 31 (0.005045849096826026) column starttime_hour_12\n",
      "21 feature 33 (0.005022922317595744) column starttime_hour_14\n",
      "22 feature 11 (0.004993725206351878) column starttime_month_5\n",
      "23 feature 46 (0.004933820020256828) column starttime_dayofweek_3\n",
      "24 feature 43 (0.004680770085535515) column starttime_dayofweek_0\n",
      "25 feature 36 (0.004637121785222151) column starttime_hour_17\n",
      "26 feature 44 (0.004562686428291749) column starttime_dayofweek_1\n",
      "27 feature 30 (0.0044719388940443455) column starttime_hour_11\n",
      "28 feature 37 (0.004465193343054037) column starttime_hour_18\n",
      "29 feature 10 (0.004388124917909813) column starttime_month_4\n",
      "30 feature 38 (0.004175097162645933) column starttime_hour_19\n",
      "31 feature 17 (0.0040653757693625775) column starttime_month_11\n",
      "32 feature 29 (0.004022955716216603) column starttime_hour_10\n",
      "33 feature 27 (0.0036237515723776983) column starttime_hour_8\n",
      "34 feature 39 (0.003443909098632844) column starttime_hour_20\n",
      "35 feature 18 (0.0034332800659924918) column starttime_month_12\n",
      "36 feature 28 (0.002954537659997276) column starttime_hour_9\n",
      "37 feature 40 (0.002846400898864919) column starttime_hour_21\n",
      "38 feature 41 (0.0027320149139111695) column starttime_hour_22\n",
      "39 feature 9 (0.0023743648287389545) column starttime_month_3\n",
      "40 feature 26 (0.0021805778352293006) column starttime_hour_7\n",
      "41 feature 42 (0.0019896852632418573) column starttime_hour_23\n",
      "42 feature 7 (0.0019570070065621802) column starttime_month_1\n",
      "43 feature 8 (0.0015539309229162259) column starttime_month_2\n",
      "44 feature 19 (0.0012353621662805868) column starttime_hour_0\n",
      "45 feature 25 (0.001022056048996766) column starttime_hour_6\n",
      "46 feature 20 (0.0009931890735691057) column starttime_hour_1\n",
      "47 feature 21 (0.0008405445635661882) column starttime_hour_2\n",
      "48 feature 24 (0.00039537142340841433) column starttime_hour_5\n",
      "49 feature 23 (0.00030442545905949147) column starttime_hour_4\n",
      "50 feature 22 (0.0002828447526393528) column starttime_hour_3\n"
     ]
    }
   ],
   "source": [
    "clf_nrs_for_importances = [2,3]\n",
    "for i,item in enumerate(results_overall):\n",
    "        if i in clf_nrs_for_importances:\n",
    "            clf = item[1]\n",
    "            importances = clf.feature_importances_\n",
    "            indices = np.argsort(importances)[::-1]\n",
    "            for f in range(X_train.shape[1]):\n",
    "                print(\"{} feature {} ({}) column {}\".format(f+1,\n",
    "                                                            indices[f],\n",
    "                                                            importances[indices[f]],\n",
    "                                                            X_train.columns[indices[f]]\n",
    "                                                           ))"
   ]
  },
  {
   "cell_type": "markdown",
   "metadata": {},
   "source": [
    "# Modeling with best-guess parameters"
   ]
  },
  {
   "cell_type": "code",
   "execution_count": 41,
   "metadata": {
    "collapsed": false
   },
   "outputs": [
    {
     "name": "stdout",
     "output_type": "stream",
     "text": [
      "Modeling : <class 'sklearn.linear_model.logistic.LogisticRegression'>\n",
      "Modeling : <class 'sklearn.ensemble.gradient_boosting.GradientBoostingClassifier'>\n",
      "Modeling : <class 'sklearn.ensemble.forest.RandomForestClassifier'>\n",
      "Modeling : <class 'sklearn.tree.tree.DecisionTreeClassifier'>\n",
      "Modeling : <class 'sklearn.neural_network.multilayer_perceptron.MLPClassifier'>\n"
     ]
    }
   ],
   "source": [
    "max_depth = 6\n",
    "class_weight = {0:n_class_0, 1:n_class_1}\n",
    "min_samples_split = 10\n",
    "min_weight_fraction_leaf = 0.01\n",
    "\n",
    "names = ['Log. regr.', 'Grad. B.', 'R. f.', 'Dec. Tree', 'MLP']\n",
    "clfs = [LogisticRegression(class_weight = class_weight),\n",
    "        GradientBoostingClassifier(max_depth = max_depth,\n",
    "                                   random_state = 0,\n",
    "                                   min_samples_split = min_samples_split,\n",
    "                                   min_weight_fraction_leaf = min_weight_fraction_leaf),\n",
    "                                    \n",
    "        RandomForestClassifier(n_estimators = 150,\n",
    "                                max_depth = max_depth,\n",
    "                                random_state = 0,\n",
    "                                class_weight = class_weight,\n",
    "                                min_samples_split = min_samples_split,\n",
    "                                min_weight_fraction_leaf = min_weight_fraction_leaf),\n",
    "        DecisionTreeClassifier(  max_depth = max_depth,\n",
    "                                  random_state = 0,\n",
    "                                  class_weight = class_weight,\n",
    "                                  min_samples_split = min_samples_split,\n",
    "                                  min_weight_fraction_leaf = min_weight_fraction_leaf),\n",
    "        MLPClassifier(hidden_layer_sizes = (32,64,64)),\n",
    "        #SVC(probability = True)\n",
    "        \n",
    "   ]\n",
    " \n",
    "results_overall = []\n",
    "clf_nrs_for_importances = []\n",
    "for i, clf in enumerate(clfs):\n",
    "    \n",
    "    print('Modeling :', str(clf.__class__))\n",
    "    \n",
    "    \n",
    "    clf.fit(X_train, y_train)\n",
    "    y_pred = clf.predict_proba(X_test)[:, 1] \n",
    "    #y_pred = clf.predict(X_test)\n",
    "    precision, recall, thresholds = precision_recall_curve(y_test, clf.predict_proba(X_test)[:,1])\n",
    "    \n",
    "    results = [str(clf.__class__),\n",
    "               clf,\n",
    "               roc_auc_score(y_test, y_pred),\n",
    "               average_precision_score(y_test,y_pred),\n",
    "               auc(recall, precision)]\n",
    "               \n",
    "    y_pred_train = clf.predict_proba(X_train)[:, 1]     \n",
    "    precision_train, recall_train, thresholds_train = precision_recall_curve(y_train, clf.predict_proba(X_train)[:,1])               \n",
    "    \n",
    "    results += [roc_auc_score(y_train, y_pred_train),\n",
    "               average_precision_score(y_train, y_pred_train),auc(recall_train, precision_train)]\n",
    "    results_overall.append(results)\n",
    "               "
   ]
  },
  {
   "cell_type": "code",
   "execution_count": 42,
   "metadata": {
    "collapsed": false
   },
   "outputs": [
    {
     "data": {
      "text/html": [
       "<div>\n",
       "<style>\n",
       "    .dataframe thead tr:only-child th {\n",
       "        text-align: right;\n",
       "    }\n",
       "\n",
       "    .dataframe thead th {\n",
       "        text-align: left;\n",
       "    }\n",
       "\n",
       "    .dataframe tbody tr th {\n",
       "        vertical-align: top;\n",
       "    }\n",
       "</style>\n",
       "<table border=\"1\" class=\"dataframe\">\n",
       "  <thead>\n",
       "    <tr style=\"text-align: right;\">\n",
       "      <th></th>\n",
       "      <th>avg_prec_test</th>\n",
       "      <th>avg_prec_train</th>\n",
       "      <th>name</th>\n",
       "      <th>prec_auc_test</th>\n",
       "      <th>prec_auc_train</th>\n",
       "      <th>roc_test</th>\n",
       "      <th>roc_train</th>\n",
       "    </tr>\n",
       "  </thead>\n",
       "  <tbody>\n",
       "    <tr>\n",
       "      <th>0</th>\n",
       "      <td>0.980642</td>\n",
       "      <td>0.981005</td>\n",
       "      <td>Log. regr.</td>\n",
       "      <td>0.980642</td>\n",
       "      <td>0.981005</td>\n",
       "      <td>0.891307</td>\n",
       "      <td>0.892383</td>\n",
       "    </tr>\n",
       "    <tr>\n",
       "      <th>2</th>\n",
       "      <td>0.984607</td>\n",
       "      <td>0.984680</td>\n",
       "      <td>R. f.</td>\n",
       "      <td>0.984607</td>\n",
       "      <td>0.984680</td>\n",
       "      <td>0.912720</td>\n",
       "      <td>0.912619</td>\n",
       "    </tr>\n",
       "    <tr>\n",
       "      <th>3</th>\n",
       "      <td>0.985946</td>\n",
       "      <td>0.986042</td>\n",
       "      <td>Dec. Tree</td>\n",
       "      <td>0.985946</td>\n",
       "      <td>0.986042</td>\n",
       "      <td>0.914946</td>\n",
       "      <td>0.915343</td>\n",
       "    </tr>\n",
       "    <tr>\n",
       "      <th>4</th>\n",
       "      <td>0.989662</td>\n",
       "      <td>0.992484</td>\n",
       "      <td>MLP</td>\n",
       "      <td>0.989662</td>\n",
       "      <td>0.992484</td>\n",
       "      <td>0.936651</td>\n",
       "      <td>0.951024</td>\n",
       "    </tr>\n",
       "    <tr>\n",
       "      <th>1</th>\n",
       "      <td>0.990356</td>\n",
       "      <td>0.990892</td>\n",
       "      <td>Grad. B.</td>\n",
       "      <td>0.990356</td>\n",
       "      <td>0.990892</td>\n",
       "      <td>0.940614</td>\n",
       "      <td>0.942397</td>\n",
       "    </tr>\n",
       "  </tbody>\n",
       "</table>\n",
       "</div>"
      ],
      "text/plain": [
       "   avg_prec_test  avg_prec_train        name  prec_auc_test  prec_auc_train  \\\n",
       "0       0.980642        0.981005  Log. regr.       0.980642        0.981005   \n",
       "2       0.984607        0.984680       R. f.       0.984607        0.984680   \n",
       "3       0.985946        0.986042   Dec. Tree       0.985946        0.986042   \n",
       "4       0.989662        0.992484         MLP       0.989662        0.992484   \n",
       "1       0.990356        0.990892    Grad. B.       0.990356        0.990892   \n",
       "\n",
       "   roc_test  roc_train  \n",
       "0  0.891307   0.892383  \n",
       "2  0.912720   0.912619  \n",
       "3  0.914946   0.915343  \n",
       "4  0.936651   0.951024  \n",
       "1  0.940614   0.942397  "
      ]
     },
     "execution_count": 42,
     "metadata": {},
     "output_type": "execute_result"
    }
   ],
   "source": [
    "df = pd.DataFrame(data = results_overall, columns = ['name','clf','roc_test','avg_prec_test',\n",
    "                                                'prec_auc_test','roc_train','avg_prec_train',\n",
    "                                                'prec_auc_train'])\n",
    "df.sort_values(['prec_auc_test'])\n",
    "df.name = names\n",
    "df.sort_values(['prec_auc_test'])[df.columns.difference(['clf'])]"
   ]
  },
  {
   "cell_type": "markdown",
   "metadata": {},
   "source": [
    "# Gridsearch I"
   ]
  },
  {
   "cell_type": "code",
   "execution_count": 63,
   "metadata": {
    "collapsed": false,
    "scrolled": true
   },
   "outputs": [
    {
     "name": "stdout",
     "output_type": "stream",
     "text": [
      "2019-07-08 07:50:09.062691\n",
      "Fitting 3 folds for each of 9 candidates, totalling 27 fits\n",
      "[CV] min_samples_split=4, n_estimators=75, min_samples_leaf=2, max_depth=3, subsample=0.85 \n",
      "[CV]  min_samples_split=4, n_estimators=75, min_samples_leaf=2, max_depth=3, subsample=0.85, total=  53.6s\n",
      "[CV] min_samples_split=4, n_estimators=75, min_samples_leaf=2, max_depth=3, subsample=0.85 \n"
     ]
    },
    {
     "name": "stderr",
     "output_type": "stream",
     "text": [
      "[Parallel(n_jobs=1)]: Done   1 out of   1 | elapsed:   54.3s remaining:    0.0s\n"
     ]
    },
    {
     "name": "stdout",
     "output_type": "stream",
     "text": [
      "[CV]  min_samples_split=4, n_estimators=75, min_samples_leaf=2, max_depth=3, subsample=0.85, total=  52.7s\n",
      "[CV] min_samples_split=4, n_estimators=75, min_samples_leaf=2, max_depth=3, subsample=0.85 \n",
      "[CV]  min_samples_split=4, n_estimators=75, min_samples_leaf=2, max_depth=3, subsample=0.85, total=  53.9s\n",
      "[CV] min_samples_split=4, n_estimators=100, min_samples_leaf=2, max_depth=3, subsample=0.85 \n",
      "[CV]  min_samples_split=4, n_estimators=100, min_samples_leaf=2, max_depth=3, subsample=0.85, total= 1.2min\n",
      "[CV] min_samples_split=4, n_estimators=100, min_samples_leaf=2, max_depth=3, subsample=0.85 \n",
      "[CV]  min_samples_split=4, n_estimators=100, min_samples_leaf=2, max_depth=3, subsample=0.85, total= 1.1min\n",
      "[CV] min_samples_split=4, n_estimators=100, min_samples_leaf=2, max_depth=3, subsample=0.85 \n",
      "[CV]  min_samples_split=4, n_estimators=100, min_samples_leaf=2, max_depth=3, subsample=0.85, total= 1.2min\n",
      "[CV] min_samples_split=4, n_estimators=150, min_samples_leaf=2, max_depth=3, subsample=0.85 \n",
      "[CV]  min_samples_split=4, n_estimators=150, min_samples_leaf=2, max_depth=3, subsample=0.85, total= 1.7min\n",
      "[CV] min_samples_split=4, n_estimators=150, min_samples_leaf=2, max_depth=3, subsample=0.85 \n",
      "[CV]  min_samples_split=4, n_estimators=150, min_samples_leaf=2, max_depth=3, subsample=0.85, total= 1.7min\n",
      "[CV] min_samples_split=4, n_estimators=150, min_samples_leaf=2, max_depth=3, subsample=0.85 \n",
      "[CV]  min_samples_split=4, n_estimators=150, min_samples_leaf=2, max_depth=3, subsample=0.85, total= 1.7min\n",
      "[CV] min_samples_split=4, n_estimators=75, min_samples_leaf=2, max_depth=6, subsample=0.85 \n",
      "[CV]  min_samples_split=4, n_estimators=75, min_samples_leaf=2, max_depth=6, subsample=0.85, total= 2.8min\n",
      "[CV] min_samples_split=4, n_estimators=75, min_samples_leaf=2, max_depth=6, subsample=0.85 \n",
      "[CV]  min_samples_split=4, n_estimators=75, min_samples_leaf=2, max_depth=6, subsample=0.85, total= 2.8min\n",
      "[CV] min_samples_split=4, n_estimators=75, min_samples_leaf=2, max_depth=6, subsample=0.85 \n",
      "[CV]  min_samples_split=4, n_estimators=75, min_samples_leaf=2, max_depth=6, subsample=0.85, total= 2.8min\n",
      "[CV] min_samples_split=4, n_estimators=100, min_samples_leaf=2, max_depth=6, subsample=0.85 \n",
      "[CV]  min_samples_split=4, n_estimators=100, min_samples_leaf=2, max_depth=6, subsample=0.85, total= 3.6min\n",
      "[CV] min_samples_split=4, n_estimators=100, min_samples_leaf=2, max_depth=6, subsample=0.85 \n",
      "[CV]  min_samples_split=4, n_estimators=100, min_samples_leaf=2, max_depth=6, subsample=0.85, total= 3.6min\n",
      "[CV] min_samples_split=4, n_estimators=100, min_samples_leaf=2, max_depth=6, subsample=0.85 \n",
      "[CV]  min_samples_split=4, n_estimators=100, min_samples_leaf=2, max_depth=6, subsample=0.85, total= 3.5min\n",
      "[CV] min_samples_split=4, n_estimators=150, min_samples_leaf=2, max_depth=6, subsample=0.85 \n",
      "[CV]  min_samples_split=4, n_estimators=150, min_samples_leaf=2, max_depth=6, subsample=0.85, total= 5.0min\n",
      "[CV] min_samples_split=4, n_estimators=150, min_samples_leaf=2, max_depth=6, subsample=0.85 \n",
      "[CV]  min_samples_split=4, n_estimators=150, min_samples_leaf=2, max_depth=6, subsample=0.85, total= 5.1min\n",
      "[CV] min_samples_split=4, n_estimators=150, min_samples_leaf=2, max_depth=6, subsample=0.85 \n",
      "[CV]  min_samples_split=4, n_estimators=150, min_samples_leaf=2, max_depth=6, subsample=0.85, total= 5.1min\n",
      "[CV] min_samples_split=4, n_estimators=75, min_samples_leaf=2, max_depth=9, subsample=0.85 \n",
      "[CV]  min_samples_split=4, n_estimators=75, min_samples_leaf=2, max_depth=9, subsample=0.85, total= 8.0min\n",
      "[CV] min_samples_split=4, n_estimators=75, min_samples_leaf=2, max_depth=9, subsample=0.85 \n",
      "[CV]  min_samples_split=4, n_estimators=75, min_samples_leaf=2, max_depth=9, subsample=0.85, total= 7.9min\n",
      "[CV] min_samples_split=4, n_estimators=75, min_samples_leaf=2, max_depth=9, subsample=0.85 \n",
      "[CV]  min_samples_split=4, n_estimators=75, min_samples_leaf=2, max_depth=9, subsample=0.85, total= 8.0min\n",
      "[CV] min_samples_split=4, n_estimators=100, min_samples_leaf=2, max_depth=9, subsample=0.85 \n",
      "[CV]  min_samples_split=4, n_estimators=100, min_samples_leaf=2, max_depth=9, subsample=0.85, total= 9.8min\n",
      "[CV] min_samples_split=4, n_estimators=100, min_samples_leaf=2, max_depth=9, subsample=0.85 \n",
      "[CV]  min_samples_split=4, n_estimators=100, min_samples_leaf=2, max_depth=9, subsample=0.85, total= 9.9min\n",
      "[CV] min_samples_split=4, n_estimators=100, min_samples_leaf=2, max_depth=9, subsample=0.85 \n",
      "[CV]  min_samples_split=4, n_estimators=100, min_samples_leaf=2, max_depth=9, subsample=0.85, total= 9.9min\n",
      "[CV] min_samples_split=4, n_estimators=150, min_samples_leaf=2, max_depth=9, subsample=0.85 \n",
      "[CV]  min_samples_split=4, n_estimators=150, min_samples_leaf=2, max_depth=9, subsample=0.85, total=13.7min\n",
      "[CV] min_samples_split=4, n_estimators=150, min_samples_leaf=2, max_depth=9, subsample=0.85 \n",
      "[CV]  min_samples_split=4, n_estimators=150, min_samples_leaf=2, max_depth=9, subsample=0.85, total=13.7min\n",
      "[CV] min_samples_split=4, n_estimators=150, min_samples_leaf=2, max_depth=9, subsample=0.85 \n",
      "[CV]  min_samples_split=4, n_estimators=150, min_samples_leaf=2, max_depth=9, subsample=0.85, total=13.8min\n"
     ]
    },
    {
     "name": "stderr",
     "output_type": "stream",
     "text": [
      "[Parallel(n_jobs=1)]: Done  27 out of  27 | elapsed: 140.8min finished\n"
     ]
    },
    {
     "name": "stdout",
     "output_type": "stream",
     "text": [
      "2019-07-08 05:40:09.062691\n",
      "0.950780389102\n",
      "{'min_samples_split': 4, 'n_estimators': 75, 'min_samples_leaf': 2, 'max_depth': 6, 'subsample': 0.85}\n"
     ]
    }
   ],
   "source": [
    "old_time = datetime.datetime.now()\n",
    "print(old_time)\n",
    "\n",
    "parameters = {\n",
    "    \"min_samples_split\": [4],\n",
    "    \"min_samples_leaf\": [2],\n",
    "    \"max_depth\":[3,6,9],\n",
    "    \"subsample\":[0.85],\n",
    "    \"n_estimators\":[75,100,150]}\n",
    "\n",
    "clf = GridSearchCV(GradientBoostingClassifier(), parameters, cv=3, n_jobs=1, verbose= 2)\n",
    "clf.fit(X_train, y_train)\n",
    "new_time = old_time - datetime.timedelta(hours=2, minutes=10)\n",
    "print(new_time)\n",
    "print(clf.score(X_train, y_train))\n",
    "print(clf.best_params_)"
   ]
  },
  {
   "cell_type": "code",
   "execution_count": 64,
   "metadata": {
    "collapsed": false
   },
   "outputs": [
    {
     "name": "stdout",
     "output_type": "stream",
     "text": [
      "[{'max_depth': 9, 'mean_score_delta': 0.016012700560022686, 'mean_test_score': 0.94769778090207846, 'min_samples_leaf': 2, 'min_samples_split': 4, 'n_estimators': 150, 'subsample': 0.85},\n",
      " {'max_depth': 3, 'mean_score_delta': 0.00022086424460121545, 'mean_test_score': 0.94779277653227956, 'min_samples_leaf': 2, 'min_samples_split': 4, 'n_estimators': 75, 'subsample': 0.85},\n",
      " {'max_depth': 3, 'mean_score_delta': 0.0002932983393119093, 'mean_test_score': 0.94804214006155718, 'min_samples_leaf': 2, 'min_samples_split': 4, 'n_estimators': 100, 'subsample': 0.85},\n",
      " {'max_depth': 9, 'mean_score_delta': 0.012627293723839417, 'mean_test_score': 0.94809913743967777, 'min_samples_leaf': 2, 'min_samples_split': 4, 'n_estimators': 100, 'subsample': 0.85},\n",
      " {'max_depth': 9, 'mean_score_delta': 0.010652571982054271, 'mean_test_score': 0.94826300490177451, 'min_samples_leaf': 2, 'min_samples_split': 4, 'n_estimators': 75, 'subsample': 0.85},\n",
      " {'max_depth': 3, 'mean_score_delta': 0.00056641060412265798, 'mean_test_score': 0.94828437891856976, 'min_samples_leaf': 2, 'min_samples_split': 4, 'n_estimators': 150, 'subsample': 0.85},\n",
      " {'max_depth': 6, 'mean_score_delta': 0.004538416122344735, 'mean_test_score': 0.94876648174183986, 'min_samples_leaf': 2, 'min_samples_split': 4, 'n_estimators': 150, 'subsample': 0.85},\n",
      " {'max_depth': 6, 'mean_score_delta': 0.0032761612714882205, 'mean_test_score': 0.94880685488467531, 'min_samples_leaf': 2, 'min_samples_split': 4, 'n_estimators': 100, 'subsample': 0.85},\n",
      " {'max_depth': 6, 'mean_score_delta': 0.002499572149689655, 'mean_test_score': 0.94889710073336631, 'min_samples_leaf': 2, 'min_samples_split': 4, 'n_estimators': 75, 'subsample': 0.85}]\n"
     ]
    }
   ],
   "source": [
    "results = []\n",
    "for i,item in enumerate(zip(clf.cv_results_['mean_test_score'], clf.cv_results_['mean_train_score']-clf.cv_results_['mean_test_score'])):\n",
    "    x = clf.cv_results_['params']\n",
    "    x[i]['mean_test_score'] = item[0]\n",
    "    x[i]['mean_score_delta'] = item[1]\n",
    "    results.append(x)\n",
    "\n",
    "pprint(sorted(x, key = lambda x: x['mean_test_score']), width = 600)    \n",
    "    "
   ]
  },
  {
   "cell_type": "markdown",
   "metadata": {},
   "source": [
    "#  Gridsearch II"
   ]
  },
  {
   "cell_type": "code",
   "execution_count": 65,
   "metadata": {
    "collapsed": false
   },
   "outputs": [
    {
     "name": "stdout",
     "output_type": "stream",
     "text": [
      "2019-07-08 10:15:41.510867\n",
      "Fitting 3 folds for each of 6 candidates, totalling 18 fits\n",
      "[CV] subsample=0.85, min_samples_leaf=5, n_estimators=75, learning_rate=0.05, min_samples_split=10, max_depth=6 \n",
      "[CV]  subsample=0.85, min_samples_leaf=5, n_estimators=75, learning_rate=0.05, min_samples_split=10, max_depth=6, total= 3.0min\n",
      "[CV] subsample=0.85, min_samples_leaf=5, n_estimators=75, learning_rate=0.05, min_samples_split=10, max_depth=6 \n"
     ]
    },
    {
     "name": "stderr",
     "output_type": "stream",
     "text": [
      "[Parallel(n_jobs=1)]: Done   1 out of   1 | elapsed:  3.0min remaining:    0.0s\n"
     ]
    },
    {
     "name": "stdout",
     "output_type": "stream",
     "text": [
      "[CV]  subsample=0.85, min_samples_leaf=5, n_estimators=75, learning_rate=0.05, min_samples_split=10, max_depth=6, total= 3.0min\n",
      "[CV] subsample=0.85, min_samples_leaf=5, n_estimators=75, learning_rate=0.05, min_samples_split=10, max_depth=6 \n",
      "[CV]  subsample=0.85, min_samples_leaf=5, n_estimators=75, learning_rate=0.05, min_samples_split=10, max_depth=6, total= 3.0min\n",
      "[CV] subsample=1, min_samples_leaf=5, n_estimators=75, learning_rate=0.05, min_samples_split=10, max_depth=6 \n",
      "[CV]  subsample=1, min_samples_leaf=5, n_estimators=75, learning_rate=0.05, min_samples_split=10, max_depth=6, total= 3.1min\n",
      "[CV] subsample=1, min_samples_leaf=5, n_estimators=75, learning_rate=0.05, min_samples_split=10, max_depth=6 \n",
      "[CV]  subsample=1, min_samples_leaf=5, n_estimators=75, learning_rate=0.05, min_samples_split=10, max_depth=6, total= 3.1min\n",
      "[CV] subsample=1, min_samples_leaf=5, n_estimators=75, learning_rate=0.05, min_samples_split=10, max_depth=6 \n",
      "[CV]  subsample=1, min_samples_leaf=5, n_estimators=75, learning_rate=0.05, min_samples_split=10, max_depth=6, total= 3.1min\n",
      "[CV] subsample=0.85, min_samples_leaf=5, n_estimators=75, learning_rate=0.1, min_samples_split=10, max_depth=6 \n",
      "[CV]  subsample=0.85, min_samples_leaf=5, n_estimators=75, learning_rate=0.1, min_samples_split=10, max_depth=6, total= 2.7min\n",
      "[CV] subsample=0.85, min_samples_leaf=5, n_estimators=75, learning_rate=0.1, min_samples_split=10, max_depth=6 \n",
      "[CV]  subsample=0.85, min_samples_leaf=5, n_estimators=75, learning_rate=0.1, min_samples_split=10, max_depth=6, total= 2.8min\n",
      "[CV] subsample=0.85, min_samples_leaf=5, n_estimators=75, learning_rate=0.1, min_samples_split=10, max_depth=6 \n",
      "[CV]  subsample=0.85, min_samples_leaf=5, n_estimators=75, learning_rate=0.1, min_samples_split=10, max_depth=6, total= 2.7min\n",
      "[CV] subsample=1, min_samples_leaf=5, n_estimators=75, learning_rate=0.1, min_samples_split=10, max_depth=6 \n",
      "[CV]  subsample=1, min_samples_leaf=5, n_estimators=75, learning_rate=0.1, min_samples_split=10, max_depth=6, total= 2.8min\n",
      "[CV] subsample=1, min_samples_leaf=5, n_estimators=75, learning_rate=0.1, min_samples_split=10, max_depth=6 \n",
      "[CV]  subsample=1, min_samples_leaf=5, n_estimators=75, learning_rate=0.1, min_samples_split=10, max_depth=6, total= 2.8min\n",
      "[CV] subsample=1, min_samples_leaf=5, n_estimators=75, learning_rate=0.1, min_samples_split=10, max_depth=6 \n",
      "[CV]  subsample=1, min_samples_leaf=5, n_estimators=75, learning_rate=0.1, min_samples_split=10, max_depth=6, total= 2.8min\n",
      "[CV] subsample=0.85, min_samples_leaf=5, n_estimators=75, learning_rate=0.2, min_samples_split=10, max_depth=6 \n",
      "[CV]  subsample=0.85, min_samples_leaf=5, n_estimators=75, learning_rate=0.2, min_samples_split=10, max_depth=6, total= 2.5min\n",
      "[CV] subsample=0.85, min_samples_leaf=5, n_estimators=75, learning_rate=0.2, min_samples_split=10, max_depth=6 \n",
      "[CV]  subsample=0.85, min_samples_leaf=5, n_estimators=75, learning_rate=0.2, min_samples_split=10, max_depth=6, total= 2.5min\n",
      "[CV] subsample=0.85, min_samples_leaf=5, n_estimators=75, learning_rate=0.2, min_samples_split=10, max_depth=6 \n",
      "[CV]  subsample=0.85, min_samples_leaf=5, n_estimators=75, learning_rate=0.2, min_samples_split=10, max_depth=6, total= 2.5min\n",
      "[CV] subsample=1, min_samples_leaf=5, n_estimators=75, learning_rate=0.2, min_samples_split=10, max_depth=6 \n",
      "[CV]  subsample=1, min_samples_leaf=5, n_estimators=75, learning_rate=0.2, min_samples_split=10, max_depth=6, total= 2.5min\n",
      "[CV] subsample=1, min_samples_leaf=5, n_estimators=75, learning_rate=0.2, min_samples_split=10, max_depth=6 \n",
      "[CV]  subsample=1, min_samples_leaf=5, n_estimators=75, learning_rate=0.2, min_samples_split=10, max_depth=6, total= 2.5min\n",
      "[CV] subsample=1, min_samples_leaf=5, n_estimators=75, learning_rate=0.2, min_samples_split=10, max_depth=6 \n",
      "[CV]  subsample=1, min_samples_leaf=5, n_estimators=75, learning_rate=0.2, min_samples_split=10, max_depth=6, total= 2.5min\n"
     ]
    },
    {
     "name": "stderr",
     "output_type": "stream",
     "text": [
      "[Parallel(n_jobs=1)]: Done  18 out of  18 | elapsed: 50.2min finished\n"
     ]
    },
    {
     "name": "stdout",
     "output_type": "stream",
     "text": [
      "2019-07-08 08:05:41.510867\n",
      "0.950675893909\n",
      "{'subsample': 0.85, 'min_samples_leaf': 5, 'n_estimators': 75, 'learning_rate': 0.1, 'min_samples_split': 10, 'max_depth': 6}\n"
     ]
    }
   ],
   "source": [
    "old_time = datetime.datetime.now()\n",
    "print(old_time)\n",
    "\n",
    "parameters = {\n",
    "    \"learning_rate\": [0.05, 0.1, 0.2],\n",
    "    \"min_samples_split\": [10],\n",
    "    \"min_samples_leaf\": [5],\n",
    "    \"max_depth\":[6],\n",
    "    \"subsample\":[0.85, 1],\n",
    "    \"n_estimators\":[75]}\n",
    "\n",
    "clf = GridSearchCV(GradientBoostingClassifier(), parameters, cv=3, n_jobs=1, verbose= 2)\n",
    "clf.fit(X_train, y_train)\n",
    "new_time = old_time - datetime.timedelta(hours=2, minutes=10)\n",
    "print(new_time)\n",
    "print(clf.score(X_train, y_train))\n",
    "print(clf.best_params_)"
   ]
  },
  {
   "cell_type": "code",
   "execution_count": 66,
   "metadata": {
    "collapsed": false
   },
   "outputs": [
    {
     "name": "stdout",
     "output_type": "stream",
     "text": [
      "[{'learning_rate': 0.05, 'max_depth': 6, 'mean_score_delta': 0.0015056803179337441, 'mean_test_score': 0.94838412433028085, 'min_samples_leaf': 5, 'min_samples_split': 10, 'n_estimators': 75, 'subsample': 1},\n",
      " {'learning_rate': 0.05, 'max_depth': 6, 'mean_score_delta': 0.0013857485575886619, 'mean_test_score': 0.94849811908652204, 'min_samples_leaf': 5, 'min_samples_split': 10, 'n_estimators': 75, 'subsample': 0.85},\n",
      " {'learning_rate': 0.2, 'max_depth': 6, 'mean_score_delta': 0.0043223009762123343, 'mean_test_score': 0.94866436143937383, 'min_samples_leaf': 5, 'min_samples_split': 10, 'n_estimators': 75, 'subsample': 0.85},\n",
      " {'learning_rate': 0.2, 'max_depth': 6, 'mean_score_delta': 0.0043258628611378969, 'mean_test_score': 0.94868811034692402, 'min_samples_leaf': 5, 'min_samples_split': 10, 'n_estimators': 75, 'subsample': 1},\n",
      " {'learning_rate': 0.1, 'max_depth': 6, 'mean_score_delta': 0.0025066967204329105, 'mean_test_score': 0.94887572671657106, 'min_samples_leaf': 5, 'min_samples_split': 10, 'n_estimators': 75, 'subsample': 0.85},\n",
      " {'learning_rate': 0.1, 'max_depth': 6, 'mean_score_delta': 0.0024983847945535542, 'mean_test_score': 0.94887572671657106, 'min_samples_leaf': 5, 'min_samples_split': 10, 'n_estimators': 75, 'subsample': 1}]\n"
     ]
    }
   ],
   "source": [
    "results = []\n",
    "for i,item in enumerate(zip(clf.cv_results_['mean_test_score'], clf.cv_results_['mean_train_score']-clf.cv_results_['mean_test_score'])):\n",
    "    x = clf.cv_results_['params']\n",
    "    x[i]['mean_test_score'] = item[0]\n",
    "    x[i]['mean_score_delta'] = item[1]\n",
    "    results.append(x)\n",
    "\n",
    "pprint(sorted(x, key = lambda x: x['mean_test_score']), width = 600) "
   ]
  },
  {
   "cell_type": "markdown",
   "metadata": {},
   "source": [
    "#  Gridsearch III"
   ]
  },
  {
   "cell_type": "code",
   "execution_count": 67,
   "metadata": {
    "collapsed": false
   },
   "outputs": [
    {
     "name": "stdout",
     "output_type": "stream",
     "text": [
      "2019-07-08 11:10:33.887587\n",
      "Fitting 3 folds for each of 2 candidates, totalling 6 fits\n",
      "[CV] subsample=1, n_estimators=75, min_samples_leaf=10, learning_rate=0.1, loss=deviance, min_samples_split=30, max_depth=6 \n",
      "[CV]  subsample=1, n_estimators=75, min_samples_leaf=10, learning_rate=0.1, loss=deviance, min_samples_split=30, max_depth=6, total= 2.8min\n",
      "[CV] subsample=1, n_estimators=75, min_samples_leaf=10, learning_rate=0.1, loss=deviance, min_samples_split=30, max_depth=6 \n"
     ]
    },
    {
     "name": "stderr",
     "output_type": "stream",
     "text": [
      "[Parallel(n_jobs=1)]: Done   1 out of   1 | elapsed:  2.8min remaining:    0.0s\n"
     ]
    },
    {
     "name": "stdout",
     "output_type": "stream",
     "text": [
      "[CV]  subsample=1, n_estimators=75, min_samples_leaf=10, learning_rate=0.1, loss=deviance, min_samples_split=30, max_depth=6, total= 2.8min\n",
      "[CV] subsample=1, n_estimators=75, min_samples_leaf=10, learning_rate=0.1, loss=deviance, min_samples_split=30, max_depth=6 \n",
      "[CV]  subsample=1, n_estimators=75, min_samples_leaf=10, learning_rate=0.1, loss=deviance, min_samples_split=30, max_depth=6, total= 2.8min\n",
      "[CV] subsample=1, n_estimators=75, min_samples_leaf=10, learning_rate=0.1, loss=exponential, min_samples_split=30, max_depth=6 \n",
      "[CV]  subsample=1, n_estimators=75, min_samples_leaf=10, learning_rate=0.1, loss=exponential, min_samples_split=30, max_depth=6, total= 2.8min\n",
      "[CV] subsample=1, n_estimators=75, min_samples_leaf=10, learning_rate=0.1, loss=exponential, min_samples_split=30, max_depth=6 \n",
      "[CV]  subsample=1, n_estimators=75, min_samples_leaf=10, learning_rate=0.1, loss=exponential, min_samples_split=30, max_depth=6, total= 2.8min\n",
      "[CV] subsample=1, n_estimators=75, min_samples_leaf=10, learning_rate=0.1, loss=exponential, min_samples_split=30, max_depth=6 \n",
      "[CV]  subsample=1, n_estimators=75, min_samples_leaf=10, learning_rate=0.1, loss=exponential, min_samples_split=30, max_depth=6, total= 2.8min\n"
     ]
    },
    {
     "name": "stderr",
     "output_type": "stream",
     "text": [
      "[Parallel(n_jobs=1)]: Done   6 out of   6 | elapsed: 16.9min finished\n"
     ]
    },
    {
     "name": "stdout",
     "output_type": "stream",
     "text": [
      "2019-07-08 09:00:33.887587\n",
      "0.950010924497\n",
      "{'subsample': 1, 'n_estimators': 75, 'min_samples_leaf': 10, 'learning_rate': 0.1, 'loss': 'exponential', 'min_samples_split': 30, 'max_depth': 6}\n"
     ]
    }
   ],
   "source": [
    "old_time = datetime.datetime.now()\n",
    "print(old_time)\n",
    "\n",
    "parameters = {\n",
    "    'loss' : ['deviance', 'exponential'],\n",
    "    \"learning_rate\": [0.1],\n",
    "    \"min_samples_split\": [30],\n",
    "    \"min_samples_leaf\": [10],\n",
    "    \"max_depth\":[6],\n",
    "    \"subsample\":[1],\n",
    "    \"n_estimators\":[75]}\n",
    "\n",
    "clf = GridSearchCV(GradientBoostingClassifier(), parameters, cv=3, n_jobs=1, verbose= 2)\n",
    "clf.fit(X_train, y_train)\n",
    "new_time = old_time - datetime.timedelta(hours=2, minutes=10)\n",
    "print(new_time)\n",
    "#print(sorted(clf.cv_results_.items()))\n",
    "print(clf.score(X_train, y_train))\n",
    "print(clf.best_params_)"
   ]
  },
  {
   "cell_type": "code",
   "execution_count": 68,
   "metadata": {
    "collapsed": false
   },
   "outputs": [
    {
     "name": "stdout",
     "output_type": "stream",
     "text": [
      "[{'learning_rate': 0.1, 'loss': 'deviance', 'max_depth': 6, 'mean_score_delta': 0.002410513405149084, 'mean_test_score': 0.94884960291826581, 'min_samples_leaf': 10, 'min_samples_split': 30, 'n_estimators': 75, 'subsample': 1}, {'learning_rate': 0.1, 'loss': 'exponential', 'max_depth': 6, 'mean_score_delta': 0.0014154344805278329, 'mean_test_score': 0.9488923509518562, 'min_samples_leaf': 10, 'min_samples_split': 30, 'n_estimators': 75, 'subsample': 1}]\n"
     ]
    }
   ],
   "source": [
    "results = []\n",
    "for i,item in enumerate(zip(clf.cv_results_['mean_test_score'], clf.cv_results_['mean_train_score']-clf.cv_results_['mean_test_score'])):\n",
    "    x = clf.cv_results_['params']\n",
    "    x[i]['mean_test_score'] = item[0]\n",
    "    x[i]['mean_score_delta'] = item[1]\n",
    "    results.append(x)\n",
    "\n",
    "pprint(sorted(x, key = lambda x: x['mean_test_score']), width = 600) "
   ]
  },
  {
   "cell_type": "code",
   "execution_count": null,
   "metadata": {
    "collapsed": true
   },
   "outputs": [],
   "source": []
  },
  {
   "cell_type": "markdown",
   "metadata": {},
   "source": [
    "# Finding optimum value for n_estimators"
   ]
  },
  {
   "cell_type": "code",
   "execution_count": 6,
   "metadata": {
    "collapsed": false
   },
   "outputs": [
    {
     "name": "stdout",
     "output_type": "stream",
     "text": [
      "Modeling : <class 'sklearn.ensemble.gradient_boosting.GradientBoostingClassifier'>\n"
     ]
    }
   ],
   "source": [
    "max_depth = 6\n",
    "class_weight = {0:n_class_0, 1:n_class_1}\n",
    "min_samples_split = 10\n",
    "min_weight_fraction_leaf = 0.01\n",
    "\n",
    "names = ['Grad. B.']\n",
    "clfs = [GradientBoostingClassifier(max_depth = max_depth,\n",
    "                                   random_state = 0,\n",
    "                                   min_samples_split = min_samples_split,\n",
    "                                   min_weight_fraction_leaf = min_weight_fraction_leaf,\n",
    "                                   n_estimators = 800)]\n",
    "        \n",
    "\n",
    " \n",
    "results_overall = []\n",
    "clf_nrs_for_importances = []\n",
    "for i, clf in enumerate(clfs):\n",
    "    \n",
    "    print('Modeling :', str(clf.__class__))\n",
    "    \n",
    "    \n",
    "    clf.fit(X_train, y_train)\n",
    "    y_pred = clf.predict_proba(X_test)[:, 1] \n",
    "    #y_pred = clf.predict(X_test)\n",
    "    precision, recall, thresholds = precision_recall_curve(y_test, clf.predict_proba(X_test)[:,1])\n",
    "    \n",
    "    results = [str(clf.__class__),\n",
    "               clf,\n",
    "               roc_auc_score(y_test, y_pred),\n",
    "               average_precision_score(y_test,y_pred),\n",
    "               auc(recall, precision)]\n",
    "               \n",
    "    y_pred_train = clf.predict_proba(X_train)[:, 1]     \n",
    "    precision_train, recall_train, thresholds_train = precision_recall_curve(y_train, clf.predict_proba(X_train)[:,1])               \n",
    "    \n",
    "    results += [roc_auc_score(y_train, y_pred_train),\n",
    "               average_precision_score(y_train, y_pred_train),auc(recall_train, precision_train)]\n",
    "    results_overall.append(results)\n",
    "               "
   ]
  },
  {
   "cell_type": "code",
   "execution_count": 7,
   "metadata": {
    "collapsed": true
   },
   "outputs": [],
   "source": [
    "errors_train = [mean_squared_error(y_train, y_pred) for y_pred in clf.staged_predict(X_train)]\n",
    "errors_test = [mean_squared_error(y_test, y_pred) for y_pred in clf.staged_predict(X_test)]\n",
    "\n",
    "roc_auc_scores_train = [roc_auc_score(y_train, y_pred) for y_pred in clf.staged_predict(X_train)]\n",
    "roc_auc_scores_test = [roc_auc_score(y_test, y_pred) for y_pred in clf.staged_predict(X_test)]\n",
    "\n",
    "auc_differences = np.subtract(roc_auc_scores_train, roc_auc_scores_test)"
   ]
  },
  {
   "cell_type": "code",
   "execution_count": 30,
   "metadata": {
    "collapsed": false
   },
   "outputs": [
    {
     "name": "stdout",
     "output_type": "stream",
     "text": [
      "Optimal number of estimators: 153\n"
     ]
    },
    {
     "data": {
      "image/png": "[encoded data removed]",
      "text/plain": [
       "<matplotlib.figure.Figure at 0x958f1cec88>"
      ]
     },
     "metadata": {},
     "output_type": "display_data"
    }
   ],
   "source": [
    "fig, ax = plt.subplots(figsize = (12,8))\n",
    "x = [i for i in range(len(errors_test))]\n",
    "ax.plot(x, errors_test, label = 'Test')\n",
    "ax.plot(x, errors_train, label = 'Train')\n",
    "ax2 = ax.twinx()\n",
    "ax2.plot(x, auc_differences, label = 'Overfitting ')\n",
    "np.multiply(auc_differences,auc_differences)\n",
    "\n",
    "\n",
    "ms_overfit = np.sqrt(np.multiply(auc_differences[5:],auc_differences[5:]))\n",
    "min_overfit_index = np.argmin(ms_overfit)+5\n",
    "ax2.scatter( min_overfit_index,ms_overfit[min_overfit_index], color = 'red',s = 90)\n",
    "ax2.axvline(min_overfit_index,ms_overfit[min_overfit_index], color = 'red')\n",
    "\n",
    "ax.set_xlabel('Number of trees')\n",
    "ax.set_ylabel('Error')\n",
    "ax.legend()\n",
    "ax2.legend()\n",
    "\n",
    "print('Optimal number of estimators: {}'.format(min_overfit_index))\n",
    "plt.show()\n"
   ]
  },
  {
   "cell_type": "code",
   "execution_count": 43,
   "metadata": {
    "collapsed": false
   },
   "outputs": [
    {
     "name": "stdout",
     "output_type": "stream",
     "text": [
      "Modeling : <class 'sklearn.ensemble.gradient_boosting.GradientBoostingClassifier'>\n"
     ]
    }
   ],
   "source": [
    "names = ['Grad. B.']\n",
    "clfs = [GradientBoostingClassifier(max_depth = 6,\n",
    "                                   learning_rate = 0.1,\n",
    "                                   min_samples_split = 10,\n",
    "                                   min_weight_fraction_leaf = 0.01,\n",
    "                                   n_estimators = 153)]\n",
    "        \n",
    "\n",
    " \n",
    "results_overall = []\n",
    "clf_nrs_for_importances = []\n",
    "for i, clf in enumerate(clfs):\n",
    "    \n",
    "    print('Modeling :', str(clf.__class__))\n",
    "    \n",
    "    \n",
    "    clf.fit(X_train, y_train)\n",
    "    y_pred = clf.predict_proba(X_test)[:, 1] \n",
    "    #y_pred = clf.predict(X_test)\n",
    "    precision, recall, thresholds = precision_recall_curve(y_test, clf.predict_proba(X_test)[:,1])\n",
    "    \n",
    "    results = [str(clf.__class__),\n",
    "               clf,\n",
    "               roc_auc_score(y_test, y_pred),\n",
    "               average_precision_score(y_test,y_pred),\n",
    "               auc(recall, precision)]\n",
    "               \n",
    "    y_pred_train = clf.predict_proba(X_train)[:, 1]     \n",
    "    precision_train, recall_train, thresholds_train = precision_recall_curve(y_train, clf.predict_proba(X_train)[:,1])               \n",
    "    \n",
    "    results += [roc_auc_score(y_train, y_pred_train),\n",
    "               average_precision_score(y_train, y_pred_train),auc(recall_train, precision_train)]\n",
    "    results_overall.append(results)\n",
    "               "
   ]
  },
  {
   "cell_type": "code",
   "execution_count": 44,
   "metadata": {
    "collapsed": false
   },
   "outputs": [
    {
     "data": {
      "text/html": [
       "<div>\n",
       "<style>\n",
       "    .dataframe thead tr:only-child th {\n",
       "        text-align: right;\n",
       "    }\n",
       "\n",
       "    .dataframe thead th {\n",
       "        text-align: left;\n",
       "    }\n",
       "\n",
       "    .dataframe tbody tr th {\n",
       "        vertical-align: top;\n",
       "    }\n",
       "</style>\n",
       "<table border=\"1\" class=\"dataframe\">\n",
       "  <thead>\n",
       "    <tr style=\"text-align: right;\">\n",
       "      <th></th>\n",
       "      <th>avg_prec_test</th>\n",
       "      <th>avg_prec_train</th>\n",
       "      <th>name</th>\n",
       "      <th>prec_auc_test</th>\n",
       "      <th>prec_auc_train</th>\n",
       "      <th>roc_test</th>\n",
       "      <th>roc_train</th>\n",
       "    </tr>\n",
       "  </thead>\n",
       "  <tbody>\n",
       "    <tr>\n",
       "      <th>0</th>\n",
       "      <td>0.990509</td>\n",
       "      <td>0.991197</td>\n",
       "      <td>Grad. B.</td>\n",
       "      <td>0.990509</td>\n",
       "      <td>0.991197</td>\n",
       "      <td>0.941429</td>\n",
       "      <td>0.943929</td>\n",
       "    </tr>\n",
       "  </tbody>\n",
       "</table>\n",
       "</div>"
      ],
      "text/plain": [
       "   avg_prec_test  avg_prec_train      name  prec_auc_test  prec_auc_train  \\\n",
       "0       0.990509        0.991197  Grad. B.       0.990509        0.991197   \n",
       "\n",
       "   roc_test  roc_train  \n",
       "0  0.941429   0.943929  "
      ]
     },
     "execution_count": 44,
     "metadata": {},
     "output_type": "execute_result"
    }
   ],
   "source": [
    "df = pd.DataFrame(data = results_overall, columns = ['name','clf','roc_test','avg_prec_test',\n",
    "                                                'prec_auc_test','roc_train','avg_prec_train',\n",
    "                                                'prec_auc_train'])\n",
    "df.sort_values(['prec_auc_test'])\n",
    "df.name = names\n",
    "df.sort_values(['prec_auc_test'])[df.columns.difference(['clf'])]"
   ]
  },
  {
   "cell_type": "markdown",
   "metadata": {},
   "source": [
    "###  Ensemble classifiers"
   ]
  },
  {
   "cell_type": "code",
   "execution_count": null,
   "metadata": {
    "collapsed": true
   },
   "outputs": [],
   "source": [
    "max_depth = 6\n",
    "class_weight = {0:n_class_0, 1:n_class_1}\n",
    "min_samples_split = 10\n",
    "min_weight_fraction_leaf = 0.01\n",
    "\n",
    "clf1 = LogisticRegression(class_weight = class_weight)\n",
    "\n",
    "\n",
    "                                    \n",
    "clf2 = RandomForestClassifier(n_estimators = 150,\n",
    "                                max_depth = max_depth,\n",
    "                                random_state = 0,\n",
    "                                class_weight = class_weight,\n",
    "                                min_samples_split = min_samples_split,\n",
    "                                min_weight_fraction_leaf = min_weight_fraction_leaf)\n",
    "\n",
    "clf3 = DecisionTreeClassifier(  max_depth = max_depth,\n",
    "                                  random_state = 0,\n",
    "                                  class_weight = class_weight,\n",
    "                                  min_samples_split = min_samples_split,\n",
    "                                  min_weight_fraction_leaf = min_weight_fraction_leaf)\n",
    "\n",
    "clf4 = MLPClassifier(hidden_layer_sizes = (32,64,64))\n",
    "        \n",
    "   \n",
    "clf5 = GradientBoostingClassifier(max_depth = 6,\n",
    "                                   learning_rate = 0.1,\n",
    "                                   min_samples_split = 10,\n",
    "                                   min_weight_fraction_leaf = 0.01,\n",
    "                                   n_estimators = 153)\n",
    "\n",
    "# (estimators, voting=’hard’, weights=None, n_jobs=None, flatten_transform=True)\n",
    "clf = VotingClassifier(estimators=[\n",
    "        ('lr', clf1), ('rf', clf2), ('dt', clf3),('mlp', clf4), ('gb', clf5)],\n",
    "         voting='soft')\n",
    "\n",
    "clf = clf.fit(X_train, y_train)"
   ]
  },
  {
   "cell_type": "code",
   "execution_count": 14,
   "metadata": {
    "collapsed": false
   },
   "outputs": [],
   "source": [
    "results_overall = []\n",
    "y_pred = clf.predict_proba(X_test)[:, 1] \n",
    "#y_pred = clf.predict(X_test)\n",
    "precision, recall, thresholds = precision_recall_curve(y_test, clf.predict_proba(X_test)[:,1])\n",
    "\n",
    "results = [str(clf.__class__),\n",
    "           clf,\n",
    "           roc_auc_score(y_test, y_pred),\n",
    "           average_precision_score(y_test,y_pred),\n",
    "           auc(recall, precision)]\n",
    "\n",
    "y_pred_train = clf.predict_proba(X_train)[:, 1]     \n",
    "precision_train, recall_train, thresholds_train = precision_recall_curve(y_train, clf.predict_proba(X_train)[:,1])               \n",
    "\n",
    "results += [roc_auc_score(y_train, y_pred_train),\n",
    "           average_precision_score(y_train, y_pred_train),auc(recall_train, precision_train)]\n",
    "results_overall.append(results)"
   ]
  },
  {
   "cell_type": "code",
   "execution_count": 16,
   "metadata": {
    "collapsed": false
   },
   "outputs": [
    {
     "data": {
      "text/html": [
       "<div>\n",
       "<style>\n",
       "    .dataframe thead tr:only-child th {\n",
       "        text-align: right;\n",
       "    }\n",
       "\n",
       "    .dataframe thead th {\n",
       "        text-align: left;\n",
       "    }\n",
       "\n",
       "    .dataframe tbody tr th {\n",
       "        vertical-align: top;\n",
       "    }\n",
       "</style>\n",
       "<table border=\"1\" class=\"dataframe\">\n",
       "  <thead>\n",
       "    <tr style=\"text-align: right;\">\n",
       "      <th></th>\n",
       "      <th>avg_prec_test</th>\n",
       "      <th>avg_prec_train</th>\n",
       "      <th>name</th>\n",
       "      <th>prec_auc_test</th>\n",
       "      <th>prec_auc_train</th>\n",
       "      <th>roc_test</th>\n",
       "      <th>roc_train</th>\n",
       "    </tr>\n",
       "  </thead>\n",
       "  <tbody>\n",
       "    <tr>\n",
       "      <th>0</th>\n",
       "      <td>0.990396</td>\n",
       "      <td>0.991627</td>\n",
       "      <td>Ensemble</td>\n",
       "      <td>0.990396</td>\n",
       "      <td>0.991627</td>\n",
       "      <td>0.940493</td>\n",
       "      <td>0.946589</td>\n",
       "    </tr>\n",
       "  </tbody>\n",
       "</table>\n",
       "</div>"
      ],
      "text/plain": [
       "   avg_prec_test  avg_prec_train      name  prec_auc_test  prec_auc_train  \\\n",
       "0       0.990396        0.991627  Ensemble       0.990396        0.991627   \n",
       "\n",
       "   roc_test  roc_train  \n",
       "0  0.940493   0.946589  "
      ]
     },
     "execution_count": 16,
     "metadata": {},
     "output_type": "execute_result"
    }
   ],
   "source": [
    "df = pd.DataFrame(data = results_overall, columns = ['name','clf','roc_test','avg_prec_test',\n",
    "                                                'prec_auc_test','roc_train','avg_prec_train',\n",
    "                                                'prec_auc_train'])\n",
    "df.sort_values(['prec_auc_test'])\n",
    "df.name = 'Ensemble'\n",
    "df.sort_values(['prec_auc_test'])[df.columns.difference(['clf'])]"
   ]
  }
 ],
 "metadata": {
  "anaconda-cloud": {},
  "kernelspec": {
   "display_name": "Python [conda root]",
   "language": "python",
   "name": "conda-root-py"
  },
  "language_info": {
   "codemirror_mode": {
    "name": "ipython",
    "version": 3
   },
   "file_extension": ".py",
   "mimetype": "text/x-python",
   "name": "python",
   "nbconvert_exporter": "python",
   "pygments_lexer": "ipython3",
   "version": "3.5.2"
  }
 },
 "nbformat": 4,
 "nbformat_minor": 1
}
