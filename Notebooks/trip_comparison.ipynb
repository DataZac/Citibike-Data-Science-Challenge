{
 "cells": [
  {
   "cell_type": "code",
   "execution_count": 2,
   "metadata": {
    "collapsed": true
   },
   "outputs": [],
   "source": [
    "import googlemaps\n",
    "import matplotlib.pyplot as plt\n",
    "import numpy as np\n",
    "import os\n",
    "import pandas as pd\n",
    "import datetime as dt\n",
    "import pytz\n",
    "import pickle\n",
    "from pprint import pprint\n",
    "import seaborn as sns"
   ]
  },
  {
   "cell_type": "code",
   "execution_count": 3,
   "metadata": {
    "collapsed": false
   },
   "outputs": [],
   "source": [
    "def open_read( file_name, mode = '', df = ''):\n",
    "        if mode == 'w':\n",
    "                with open('data/'+file_name, 'wb') as f:\n",
    "                    pickle.dump(df, f)\n",
    "        elif mode =='r':\n",
    "                with open('data/'+file_name, 'rb') as f:\n",
    "                    df = pickle.load(f)                \n",
    "                return df\n",
    "\n",
    "df = open_read('0.03_intermediate', mode = 'r')"
   ]
  },
  {
   "cell_type": "markdown",
   "metadata": {},
   "source": [
    "#  Sample trips"
   ]
  },
  {
   "cell_type": "code",
   "execution_count": 4,
   "metadata": {
    "collapsed": false
   },
   "outputs": [
    {
     "data": {
      "text/html": [
       "<div>\n",
       "<style>\n",
       "    .dataframe thead tr:only-child th {\n",
       "        text-align: right;\n",
       "    }\n",
       "\n",
       "    .dataframe thead th {\n",
       "        text-align: left;\n",
       "    }\n",
       "\n",
       "    .dataframe tbody tr th {\n",
       "        vertical-align: top;\n",
       "    }\n",
       "</style>\n",
       "<table border=\"1\" class=\"dataframe\">\n",
       "  <thead>\n",
       "    <tr style=\"text-align: right;\">\n",
       "      <th></th>\n",
       "      <th>trip_duration</th>\n",
       "      <th>starttime</th>\n",
       "      <th>stoptime</th>\n",
       "      <th>ss_id</th>\n",
       "      <th>ss_name</th>\n",
       "      <th>ss_lat</th>\n",
       "      <th>ss_lon</th>\n",
       "      <th>es_id</th>\n",
       "      <th>es_name</th>\n",
       "      <th>es_lat</th>\n",
       "      <th>...</th>\n",
       "      <th>age</th>\n",
       "      <th>starttime_hour</th>\n",
       "      <th>starttime_month</th>\n",
       "      <th>starttime_dayofweek</th>\n",
       "      <th>stoptime_hour</th>\n",
       "      <th>stoptime_month</th>\n",
       "      <th>stoptime_dayofweek</th>\n",
       "      <th>stations_distance</th>\n",
       "      <th>route</th>\n",
       "      <th>trip_eff_speed</th>\n",
       "    </tr>\n",
       "  </thead>\n",
       "  <tbody>\n",
       "    <tr>\n",
       "      <th>166509</th>\n",
       "      <td>1115</td>\n",
       "      <td>2018-09-03 21:08:49.527</td>\n",
       "      <td>2018-09-03 21:27:25.375</td>\n",
       "      <td>312</td>\n",
       "      <td>Allen St &amp; Stanton St</td>\n",
       "      <td>40.722055</td>\n",
       "      <td>-73.989111</td>\n",
       "      <td>455</td>\n",
       "      <td>1 Ave &amp; E 44 St</td>\n",
       "      <td>40.750020</td>\n",
       "      <td>...</td>\n",
       "      <td>49</td>\n",
       "      <td>21</td>\n",
       "      <td>9</td>\n",
       "      <td>0</td>\n",
       "      <td>21</td>\n",
       "      <td>9</td>\n",
       "      <td>0</td>\n",
       "      <td>3537.591307</td>\n",
       "      <td>312_455</td>\n",
       "      <td>1.121877</td>\n",
       "    </tr>\n",
       "    <tr>\n",
       "      <th>164043</th>\n",
       "      <td>1918</td>\n",
       "      <td>2018-08-03 14:12:40.532</td>\n",
       "      <td>2018-08-03 14:44:38.984</td>\n",
       "      <td>3461</td>\n",
       "      <td>Murray St &amp; Greenwich St</td>\n",
       "      <td>40.714852</td>\n",
       "      <td>-74.011223</td>\n",
       "      <td>232</td>\n",
       "      <td>Cadman Plaza E &amp; Tillary St</td>\n",
       "      <td>40.695977</td>\n",
       "      <td>...</td>\n",
       "      <td>49</td>\n",
       "      <td>14</td>\n",
       "      <td>8</td>\n",
       "      <td>4</td>\n",
       "      <td>14</td>\n",
       "      <td>8</td>\n",
       "      <td>4</td>\n",
       "      <td>2750.465915</td>\n",
       "      <td>3461_232</td>\n",
       "      <td>1.088184</td>\n",
       "    </tr>\n",
       "  </tbody>\n",
       "</table>\n",
       "<p>2 rows × 25 columns</p>\n",
       "</div>"
      ],
      "text/plain": [
       "        trip_duration               starttime                stoptime  ss_id  \\\n",
       "166509           1115 2018-09-03 21:08:49.527 2018-09-03 21:27:25.375    312   \n",
       "164043           1918 2018-08-03 14:12:40.532 2018-08-03 14:44:38.984   3461   \n",
       "\n",
       "                         ss_name     ss_lat     ss_lon  es_id  \\\n",
       "166509     Allen St & Stanton St  40.722055 -73.989111    455   \n",
       "164043  Murray St & Greenwich St  40.714852 -74.011223    232   \n",
       "\n",
       "                            es_name     es_lat       ...        age  \\\n",
       "166509              1 Ave & E 44 St  40.750020       ...         49   \n",
       "164043  Cadman Plaza E & Tillary St  40.695977       ...         49   \n",
       "\n",
       "        starttime_hour starttime_month  starttime_dayofweek  stoptime_hour  \\\n",
       "166509              21               9                    0             21   \n",
       "164043              14               8                    4             14   \n",
       "\n",
       "        stoptime_month  stoptime_dayofweek  stations_distance     route  \\\n",
       "166509               9                   0        3537.591307   312_455   \n",
       "164043               8                   4        2750.465915  3461_232   \n",
       "\n",
       "        trip_eff_speed  \n",
       "166509        1.121877  \n",
       "164043        1.088184  \n",
       "\n",
       "[2 rows x 25 columns]"
      ]
     },
     "execution_count": 4,
     "metadata": {},
     "output_type": "execute_result"
    }
   ],
   "source": [
    "descriminant_series = (df.trip_duration > 90) & (df.usertype == 'Customer') & (df.ss_id != df.es_id)\n",
    "df_sampled = df.loc[descriminant_series].sample(n=200)\n",
    "df_sampled.head(2)"
   ]
  },
  {
   "cell_type": "markdown",
   "metadata": {},
   "source": [
    "# Get utc unix times for query"
   ]
  },
  {
   "cell_type": "code",
   "execution_count": 5,
   "metadata": {
    "collapsed": false,
    "scrolled": true
   },
   "outputs": [],
   "source": [
    "def get_unix_time(timestamp):\n",
    "    est = pytz.timezone('US/Eastern')\n",
    "    utc = pytz.utc\n",
    "    loc_time = est.localize(pd.to_datetime(timestamp))\n",
    "    #print(loc_time, loc_time.dayofweek, loc_time.hour)\n",
    "    day_of_week =  est.localize(pd.to_datetime(timestamp)).dayofweek\n",
    "    hour =  est.localize(pd.to_datetime(timestamp)).hour\n",
    "\n",
    "    future_biased_query_date = est.localize(dt.datetime(2019,9,2,0,0,0)+\\\n",
    "                                            dt.timedelta(hours = hour, days = day_of_week))\n",
    "    #print(future_biased_query_date)\n",
    "    future_biased_query_date = future_biased_query_date.astimezone(utc)\n",
    "    #print(future_biased_query_date.timestamp())\n",
    "    return int(future_biased_query_date.timestamp())\n",
    "\n",
    "df_sampled['utc_unix_starttime'] = df_sampled['starttime'].apply(lambda x: get_unix_time(x))"
   ]
  },
  {
   "cell_type": "markdown",
   "metadata": {},
   "source": [
    "#  Get query data"
   ]
  },
  {
   "cell_type": "code",
   "execution_count": 6,
   "metadata": {
    "collapsed": true
   },
   "outputs": [],
   "source": [
    "def get_api_query_data(df):\n",
    "    data = {}\n",
    "    for index, row in df.iterrows():\n",
    "        data[index] = (row.ss_lat,row.ss_lon, row.es_lat, row.es_lon, row.utc_unix_starttime)           \n",
    "    return data\n",
    "\n",
    "api_query_data = get_api_query_data(df_sampled)"
   ]
  },
  {
   "cell_type": "markdown",
   "metadata": {},
   "source": [
    "#  Perform api query"
   ]
  },
  {
   "cell_type": "code",
   "execution_count": 7,
   "metadata": {
    "collapsed": false
   },
   "outputs": [],
   "source": [
    "API_key = API_KEY # enter an google maps api key\n",
    "gmaps = googlemaps.Client(key=API_key)\n",
    "\n",
    "def query_api(row,data, mode = '', transit_mode = ''):\n",
    "    index = row.name\n",
    "    origins = '\"'+str(data[index][0])+', '+str(data[index][1])+'\"'\n",
    "    destinations = '\"'+str(data[index][2])+', '+str(data[index][3])+'\"'\n",
    "    time_of_travel = data[index][4]\n",
    "    x = gmaps.distance_matrix(origins=origins ,destinations = destinations,\n",
    "                                 departure_time = time_of_travel , mode = mode, transit_mode = transit_mode)\n",
    "    if mode == 'driving':\n",
    "        return x['rows'][0]['elements'][0]['duration_in_traffic']['value']\n",
    "    \n",
    "    if mode == 'transit':\n",
    "        return x\n",
    "\n",
    "\n",
    "#df['trip_duration_transit'] = df_sampled.apply(lambda x: query_api(x, api_query_data, mode = 'transit'), axis = 1)\n",
    "df_sampled['trip_duration_car'] = df_sampled.apply(lambda x: query_api(x, api_query_data, mode = 'driving'), axis = 1)"
   ]
  },
  {
   "cell_type": "code",
   "execution_count": 13,
   "metadata": {
    "collapsed": false
   },
   "outputs": [],
   "source": [
    "open_read('200_trips_with_api_data.pkl', mode = 'w', df = df)"
   ]
  },
  {
   "cell_type": "markdown",
   "metadata": {},
   "source": [
    "#  Visualize results"
   ]
  },
  {
   "cell_type": "code",
   "execution_count": 8,
   "metadata": {
    "collapsed": false
   },
   "outputs": [
    {
     "name": "stdout",
     "output_type": "stream",
     "text": [
      "count      200.000000\n",
      "mean      1609.350000\n",
      "std       1740.535864\n",
      "min        276.000000\n",
      "25%        797.500000\n",
      "50%       1284.500000\n",
      "75%       1630.500000\n",
      "max      14924.000000\n",
      "Name: trip_duration, dtype: float64\n",
      "count     200.000000\n",
      "mean      724.490000\n",
      "std       399.802049\n",
      "min       117.000000\n",
      "25%       459.000000\n",
      "50%       640.000000\n",
      "75%       916.000000\n",
      "max      2866.000000\n",
      "Name: trip_duration_car, dtype: float64\n"
     ]
    }
   ],
   "source": [
    "print(df_sampled.trip_duration.describe())\n",
    "print(df_sampled.trip_duration_car.describe())"
   ]
  },
  {
   "cell_type": "markdown",
   "metadata": {},
   "source": [
    "#  Get duration deltas and duration categories"
   ]
  },
  {
   "cell_type": "code",
   "execution_count": 21,
   "metadata": {
    "collapsed": false
   },
   "outputs": [
    {
     "name": "stdout",
     "output_type": "stream",
     "text": [
      "count    200.000000\n",
      "mean      14.747667\n",
      "std       29.042145\n",
      "min      -13.116667\n",
      "1%        -7.900667\n",
      "5%        -1.557500\n",
      "10%        0.085000\n",
      "20%        2.460000\n",
      "30%        4.278333\n",
      "40%        6.373333\n",
      "50%        7.858333\n",
      "60%        9.753333\n",
      "70%       12.398333\n",
      "80%       18.000000\n",
      "90%       26.110000\n",
      "95%       44.493333\n",
      "99%      118.681667\n",
      "max      239.200000\n",
      "Name: delta, dtype: float64\n"
     ]
    },
    {
     "data": {
      "text/html": [
       "<div>\n",
       "<style>\n",
       "    .dataframe thead tr:only-child th {\n",
       "        text-align: right;\n",
       "    }\n",
       "\n",
       "    .dataframe thead th {\n",
       "        text-align: left;\n",
       "    }\n",
       "\n",
       "    .dataframe tbody tr th {\n",
       "        vertical-align: top;\n",
       "    }\n",
       "</style>\n",
       "<table border=\"1\" class=\"dataframe\">\n",
       "  <thead>\n",
       "    <tr style=\"text-align: right;\">\n",
       "      <th></th>\n",
       "      <th>Duration_class</th>\n",
       "      <th>delta</th>\n",
       "    </tr>\n",
       "  </thead>\n",
       "  <tbody>\n",
       "    <tr>\n",
       "      <th>0</th>\n",
       "      <td>very short</td>\n",
       "      <td>0.841667</td>\n",
       "    </tr>\n",
       "    <tr>\n",
       "      <th>1</th>\n",
       "      <td>short</td>\n",
       "      <td>5.208333</td>\n",
       "    </tr>\n",
       "    <tr>\n",
       "      <th>2</th>\n",
       "      <td>medium</td>\n",
       "      <td>10.800000</td>\n",
       "    </tr>\n",
       "    <tr>\n",
       "      <th>3</th>\n",
       "      <td>long</td>\n",
       "      <td>23.675000</td>\n",
       "    </tr>\n",
       "  </tbody>\n",
       "</table>\n",
       "</div>"
      ],
      "text/plain": [
       "  Duration_class      delta\n",
       "0     very short   0.841667\n",
       "1          short   5.208333\n",
       "2         medium  10.800000\n",
       "3           long  23.675000"
      ]
     },
     "execution_count": 21,
     "metadata": {},
     "output_type": "execute_result"
    }
   ],
   "source": [
    "df_sampled['delta'] = (df_sampled['trip_duration'] - df_sampled['trip_duration_car'])/60\n",
    "df_sampled['Duration_class'] = pd.cut(df_sampled['trip_duration'], bins = (0,600, 1200,1800, 99999),\n",
    "                                      labels = ['very short', 'short', 'medium', 'long'])\n",
    "duration_delta_groups = df_sampled.groupby('Duration_class')['delta'].median().reset_index()\n",
    "print(df_sampled.delta.describe([.01,.05,.1,.2,.3,.4,.5,.6,.7,.8,.9,.95,.99]))\n",
    "duration_delta_groups"
   ]
  },
  {
   "cell_type": "code",
   "execution_count": null,
   "metadata": {
    "collapsed": true
   },
   "outputs": [],
   "source": [
    "df_sampl"
   ]
  },
  {
   "cell_type": "code",
   "execution_count": 17,
   "metadata": {
    "collapsed": false
   },
   "outputs": [
    {
     "data": {
      "image/png": "[encoded data removed]",
      "text/plain": [
       "<matplotlib.figure.Figure at 0xf8000506d8>"
      ]
     },
     "metadata": {},
     "output_type": "display_data"
    }
   ],
   "source": [
    "fig, ax = plt.subplots(figsize = (12,8))\n",
    "sns.set(font_scale=1.5)\n",
    "sns.barplot(x='Duration_class', y='delta', data=duration_delta_groups)\n",
    "ax.set_ylabel('Median difference in time')\n",
    "plt.show()"
   ]
  }
 ],
 "metadata": {
  "anaconda-cloud": {},
  "kernelspec": {
   "display_name": "Python [conda root]",
   "language": "python",
   "name": "conda-root-py"
  },
  "language_info": {
   "codemirror_mode": {
    "name": "ipython",
    "version": 3.0
   },
   "file_extension": ".py",
   "mimetype": "text/x-python",
   "name": "python",
   "nbconvert_exporter": "python",
   "pygments_lexer": "ipython3",
   "version": "3.5.2"
  }
 },
 "nbformat": 4,
 "nbformat_minor": 0
}